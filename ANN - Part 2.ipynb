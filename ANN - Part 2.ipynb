{
 "cells": [
  {
   "cell_type": "code",
   "execution_count": 1,
   "id": "6a461994",
   "metadata": {},
   "outputs": [],
   "source": [
    "import numpy as np\n",
    "import pandas as pd\n",
    "%matplotlib inline\n",
    "import matplotlib as mpl\n",
    "import matplotlib.pyplot as plt"
   ]
  },
  {
   "cell_type": "code",
   "execution_count": 2,
   "id": "0922b3a3",
   "metadata": {},
   "outputs": [
    {
     "name": "stdout",
     "output_type": "stream",
     "text": [
      "INFO:tensorflow:Enabling eager execution\n",
      "INFO:tensorflow:Enabling v2 tensorshape\n",
      "INFO:tensorflow:Enabling resource variables\n",
      "INFO:tensorflow:Enabling tensor equality\n",
      "INFO:tensorflow:Enabling control flow v2\n"
     ]
    }
   ],
   "source": [
    "import tensorflow as tf\n",
    "from tensorflow import keras"
   ]
  },
  {
   "cell_type": "code",
   "execution_count": 3,
   "id": "59d2063a",
   "metadata": {},
   "outputs": [],
   "source": [
    "from sklearn.datasets import fetch_california_housing\n",
    "housing = fetch_california_housing()"
   ]
  },
  {
   "cell_type": "code",
   "execution_count": 4,
   "id": "f1a2f95a",
   "metadata": {},
   "outputs": [
    {
     "name": "stdout",
     "output_type": "stream",
     "text": [
      "['MedInc', 'HouseAge', 'AveRooms', 'AveBedrms', 'Population', 'AveOccup', 'Latitude', 'Longitude']\n"
     ]
    }
   ],
   "source": [
    "print(housing.feature_names)"
   ]
  },
  {
   "cell_type": "code",
   "execution_count": 5,
   "id": "8d6b990f",
   "metadata": {},
   "outputs": [],
   "source": [
    "from sklearn.model_selection import train_test_split\n",
    "X_train_full, X_test, y_train_full, y_test = train_test_split(housing.data, housing.target, random_state=42)\n",
    "X_train, X_valid, y_train, y_valid = train_test_split(X_train_full, y_train_full, random_state=42)"
   ]
  },
  {
   "cell_type": "code",
   "execution_count": 6,
   "id": "261247bf",
   "metadata": {},
   "outputs": [],
   "source": [
    "from sklearn.preprocessing import StandardScaler\n",
    "scaler = StandardScaler()\n",
    "X_train = scaler.fit_transform(X_train)\n",
    "X_valid = scaler.transform(X_valid)\n",
    "X_test = scaler.transform(X_test)"
   ]
  },
  {
   "cell_type": "code",
   "execution_count": 7,
   "id": "960c8f4a",
   "metadata": {},
   "outputs": [],
   "source": [
    "np.random.seed(42)\n",
    "tf.random.set_seed(42)"
   ]
  },
  {
   "cell_type": "code",
   "execution_count": 8,
   "id": "b016c493",
   "metadata": {},
   "outputs": [
    {
     "data": {
      "text/plain": [
       "(11610, 8)"
      ]
     },
     "execution_count": 8,
     "metadata": {},
     "output_type": "execute_result"
    }
   ],
   "source": [
    "X_train.shape"
   ]
  },
  {
   "cell_type": "code",
   "execution_count": 36,
   "id": "05ea5d02",
   "metadata": {},
   "outputs": [],
   "source": [
    "model = keras.models.Sequential([\n",
    "    keras.layers.Dense(30, activation=\"relu\", input_shape=[8]),\n",
    "    keras.layers.Dense(30, activation=\"relu\"),\n",
    "    keras.layers.Dense(1)\n",
    "])"
   ]
  },
  {
   "cell_type": "code",
   "execution_count": 10,
   "id": "50e2cd81",
   "metadata": {},
   "outputs": [
    {
     "name": "stdout",
     "output_type": "stream",
     "text": [
      "Model: \"sequential\"\n",
      "_________________________________________________________________\n",
      "Layer (type)                 Output Shape              Param #   \n",
      "=================================================================\n",
      "dense (Dense)                (None, 30)                270       \n",
      "_________________________________________________________________\n",
      "dense_1 (Dense)              (None, 30)                930       \n",
      "_________________________________________________________________\n",
      "dense_2 (Dense)              (None, 1)                 31        \n",
      "=================================================================\n",
      "Total params: 1,231\n",
      "Trainable params: 1,231\n",
      "Non-trainable params: 0\n",
      "_________________________________________________________________\n"
     ]
    }
   ],
   "source": [
    "model.summary()"
   ]
  },
  {
   "cell_type": "code",
   "execution_count": 11,
   "id": "5275c00b",
   "metadata": {},
   "outputs": [],
   "source": [
    "model.compile(loss=\"mean_squared_error\",\n",
    "             optimizer = keras.optimizers.SGD(learning_rate=1e-3),\n",
    "             metrics=\"mae\")"
   ]
  },
  {
   "cell_type": "code",
   "execution_count": 12,
   "id": "a07304bb",
   "metadata": {
    "scrolled": true
   },
   "outputs": [
    {
     "name": "stdout",
     "output_type": "stream",
     "text": [
      "Epoch 1/20\n",
      "363/363 [==============================] - 2s 3ms/step - loss: 3.3697 - mae: 1.4280 - val_loss: 0.7126 - val_mae: 0.6368\n",
      "Epoch 2/20\n",
      "363/363 [==============================] - 1s 3ms/step - loss: 0.6964 - mae: 0.6267 - val_loss: 0.6880 - val_mae: 0.5704\n",
      "Epoch 3/20\n",
      "363/363 [==============================] - 1s 2ms/step - loss: 0.6167 - mae: 0.5701 - val_loss: 0.5803 - val_mae: 0.5352\n",
      "Epoch 4/20\n",
      "363/363 [==============================] - 1s 2ms/step - loss: 0.5846 - mae: 0.5491 - val_loss: 0.5166 - val_mae: 0.5207\n",
      "Epoch 5/20\n",
      "363/363 [==============================] - 1s 3ms/step - loss: 0.5321 - mae: 0.5292 - val_loss: 0.4895 - val_mae: 0.5022\n",
      "Epoch 6/20\n",
      "363/363 [==============================] - 1s 2ms/step - loss: 0.5083 - mae: 0.5146 - val_loss: 0.4951 - val_mae: 0.4934\n",
      "Epoch 7/20\n",
      "363/363 [==============================] - 1s 2ms/step - loss: 0.5044 - mae: 0.5060 - val_loss: 0.4861 - val_mae: 0.4838\n",
      "Epoch 8/20\n",
      "363/363 [==============================] - 1s 3ms/step - loss: 0.4813 - mae: 0.4968 - val_loss: 0.4554 - val_mae: 0.4753\n",
      "Epoch 9/20\n",
      "363/363 [==============================] - 1s 3ms/step - loss: 0.4627 - mae: 0.4882 - val_loss: 0.4413 - val_mae: 0.4671\n",
      "Epoch 10/20\n",
      "363/363 [==============================] - 1s 3ms/step - loss: 0.4549 - mae: 0.4846 - val_loss: 0.4379 - val_mae: 0.4623\n",
      "Epoch 11/20\n",
      "363/363 [==============================] - 1s 3ms/step - loss: 0.4416 - mae: 0.4758 - val_loss: 0.4396 - val_mae: 0.4638\n",
      "Epoch 12/20\n",
      "363/363 [==============================] - 1s 2ms/step - loss: 0.4295 - mae: 0.4715 - val_loss: 0.4507 - val_mae: 0.4573\n",
      "Epoch 13/20\n",
      "363/363 [==============================] - 1s 3ms/step - loss: 0.4326 - mae: 0.4702 - val_loss: 0.3997 - val_mae: 0.4517\n",
      "Epoch 14/20\n",
      "363/363 [==============================] - 1s 2ms/step - loss: 0.4207 - mae: 0.4651 - val_loss: 0.3956 - val_mae: 0.4497\n",
      "Epoch 15/20\n",
      "363/363 [==============================] - 1s 2ms/step - loss: 0.4198 - mae: 0.4582 - val_loss: 0.3916 - val_mae: 0.4464\n",
      "Epoch 16/20\n",
      "363/363 [==============================] - 1s 2ms/step - loss: 0.4248 - mae: 0.4652 - val_loss: 0.3937 - val_mae: 0.4445\n",
      "Epoch 17/20\n",
      "363/363 [==============================] - 1s 3ms/step - loss: 0.4105 - mae: 0.4598 - val_loss: 0.3809 - val_mae: 0.4390\n",
      "Epoch 18/20\n",
      "363/363 [==============================] - 1s 3ms/step - loss: 0.4070 - mae: 0.4585 - val_loss: 0.3793 - val_mae: 0.4368\n",
      "Epoch 19/20\n",
      "363/363 [==============================] - 1s 2ms/step - loss: 0.3902 - mae: 0.4500 - val_loss: 0.3850 - val_mae: 0.4369\n",
      "Epoch 20/20\n",
      "363/363 [==============================] - 1s 2ms/step - loss: 0.3864 - mae: 0.4441 - val_loss: 0.3809 - val_mae: 0.4368\n"
     ]
    }
   ],
   "source": [
    "model_history = model.fit(X_train, y_train, epochs = 20, validation_data=(X_valid, y_valid))"
   ]
  },
  {
   "cell_type": "code",
   "execution_count": 13,
   "id": "fd1dcc44",
   "metadata": {},
   "outputs": [
    {
     "name": "stdout",
     "output_type": "stream",
     "text": [
      "162/162 [==============================] - 0s 2ms/step - loss: 0.3942 - mae: 0.4502\n"
     ]
    }
   ],
   "source": [
    "mae_test = model.evaluate(X_test, y_test)"
   ]
  },
  {
   "cell_type": "code",
   "execution_count": 14,
   "id": "89407ead",
   "metadata": {},
   "outputs": [
    {
     "data": {
      "text/plain": [
       "{'loss': [1.8866397142410278,\n",
       "  0.6577126979827881,\n",
       "  0.593418538570404,\n",
       "  0.5557191371917725,\n",
       "  0.5271905064582825,\n",
       "  0.5032975673675537,\n",
       "  0.48535558581352234,\n",
       "  0.47091811895370483,\n",
       "  0.45779937505722046,\n",
       "  0.4474469721317291,\n",
       "  0.4393136501312256,\n",
       "  0.43176087737083435,\n",
       "  0.42605164647102356,\n",
       "  0.42017653584480286,\n",
       "  0.41549986600875854,\n",
       "  0.41116511821746826,\n",
       "  0.4077068567276001,\n",
       "  0.40395283699035645,\n",
       "  0.4004494547843933,\n",
       "  0.39796027541160583],\n",
       " 'mae': [0.9900256991386414,\n",
       "  0.6041509509086609,\n",
       "  0.5618005990982056,\n",
       "  0.5398454070091248,\n",
       "  0.5237293243408203,\n",
       "  0.5112562775611877,\n",
       "  0.5010154247283936,\n",
       "  0.492448091506958,\n",
       "  0.4857262969017029,\n",
       "  0.4797375202178955,\n",
       "  0.4744163453578949,\n",
       "  0.4703480303287506,\n",
       "  0.46740883588790894,\n",
       "  0.4636021554470062,\n",
       "  0.461266428232193,\n",
       "  0.4591343402862549,\n",
       "  0.4568699896335602,\n",
       "  0.4545365273952484,\n",
       "  0.4521064758300781,\n",
       "  0.45083147287368774],\n",
       " 'val_loss': [0.7126054763793945,\n",
       "  0.6880088448524475,\n",
       "  0.5803285837173462,\n",
       "  0.5166085362434387,\n",
       "  0.48950764536857605,\n",
       "  0.49507930874824524,\n",
       "  0.4861254394054413,\n",
       "  0.4553801119327545,\n",
       "  0.4413370192050934,\n",
       "  0.43786391615867615,\n",
       "  0.43964439630508423,\n",
       "  0.45066899061203003,\n",
       "  0.39972344040870667,\n",
       "  0.39558932185173035,\n",
       "  0.3915725648403168,\n",
       "  0.3936830461025238,\n",
       "  0.38094857335090637,\n",
       "  0.379347562789917,\n",
       "  0.3850175738334656,\n",
       "  0.380946546792984],\n",
       " 'val_mae': [0.6368111968040466,\n",
       "  0.5703656673431396,\n",
       "  0.5351505279541016,\n",
       "  0.5206613540649414,\n",
       "  0.5022227168083191,\n",
       "  0.4933752417564392,\n",
       "  0.4838489592075348,\n",
       "  0.4752773940563202,\n",
       "  0.46705934405326843,\n",
       "  0.46234604716300964,\n",
       "  0.4637792706489563,\n",
       "  0.4572650194168091,\n",
       "  0.45166537165641785,\n",
       "  0.4496610760688782,\n",
       "  0.446370005607605,\n",
       "  0.4444962739944458,\n",
       "  0.43897414207458496,\n",
       "  0.43681108951568604,\n",
       "  0.4369049370288849,\n",
       "  0.43676161766052246]}"
      ]
     },
     "execution_count": 14,
     "metadata": {},
     "output_type": "execute_result"
    }
   ],
   "source": [
    "model_history.history"
   ]
  },
  {
   "cell_type": "code",
   "execution_count": 15,
   "id": "5304109e",
   "metadata": {},
   "outputs": [
    {
     "data": {
      "image/png": "[encoded data removed]",
      "text/plain": [
       "<Figure size 576x360 with 1 Axes>"
      ]
     },
     "metadata": {
      "needs_background": "light"
     },
     "output_type": "display_data"
    }
   ],
   "source": [
    "pd.DataFrame(model_history.history).plot(figsize=(8,5))\n",
    "plt.grid(True)\n",
    "plt.gca().set_ylim(0,1)\n",
    "plt.show()"
   ]
  },
  {
   "cell_type": "code",
   "execution_count": 16,
   "id": "55a0256a",
   "metadata": {},
   "outputs": [],
   "source": [
    "X_new = X_test[:3]"
   ]
  },
  {
   "cell_type": "code",
   "execution_count": 17,
   "id": "bf6988b8",
   "metadata": {},
   "outputs": [
    {
     "name": "stdout",
     "output_type": "stream",
     "text": [
      "[[0.53287673]\n",
      " [1.8915396 ]\n",
      " [3.4040868 ]]\n",
      "[0.477   0.458   5.00001]\n"
     ]
    }
   ],
   "source": [
    "y_pred = model.predict(X_new)\n",
    "print(y_pred)\n",
    "print(y_test[:3])"
   ]
  },
  {
   "cell_type": "code",
   "execution_count": 18,
   "id": "98f0d9aa",
   "metadata": {},
   "outputs": [],
   "source": [
    "del model"
   ]
  },
  {
   "cell_type": "code",
   "execution_count": 19,
   "id": "4ddb4b41",
   "metadata": {},
   "outputs": [],
   "source": [
    "keras.backend.clear_session()"
   ]
  },
  {
   "cell_type": "code",
   "execution_count": 20,
   "id": "16593a68",
   "metadata": {},
   "outputs": [],
   "source": [
    "input_ = keras.layers.Input(shape=X_train.shape[1:])\n",
    "hidden1 = keras.layers.Dense(30, activation = \"relu\") (input_)\n",
    "hidden2 = keras.layers.Dense(30, activation = \"relu\") (hidden1)\n",
    "concat = keras.layers.concatenate([input_,hidden2])\n",
    "output = keras.layers.Dense (1)(concat)\n",
    "model = keras.models.Model(inputs = [input_], outputs = [output])"
   ]
  },
  {
   "cell_type": "code",
   "execution_count": 21,
   "id": "0abb02fb",
   "metadata": {},
   "outputs": [
    {
     "name": "stdout",
     "output_type": "stream",
     "text": [
      "Model: \"model\"\n",
      "__________________________________________________________________________________________________\n",
      "Layer (type)                    Output Shape         Param #     Connected to                     \n",
      "==================================================================================================\n",
      "input_1 (InputLayer)            [(None, 8)]          0                                            \n",
      "__________________________________________________________________________________________________\n",
      "dense (Dense)                   (None, 30)           270         input_1[0][0]                    \n",
      "__________________________________________________________________________________________________\n",
      "dense_1 (Dense)                 (None, 30)           930         dense[0][0]                      \n",
      "__________________________________________________________________________________________________\n",
      "concatenate (Concatenate)       (None, 38)           0           input_1[0][0]                    \n",
      "                                                                 dense_1[0][0]                    \n",
      "__________________________________________________________________________________________________\n",
      "dense_2 (Dense)                 (None, 1)            39          concatenate[0][0]                \n",
      "==================================================================================================\n",
      "Total params: 1,239\n",
      "Trainable params: 1,239\n",
      "Non-trainable params: 0\n",
      "__________________________________________________________________________________________________\n"
     ]
    }
   ],
   "source": [
    "model.summary()"
   ]
  },
  {
   "cell_type": "code",
   "execution_count": 22,
   "id": "77d88c74",
   "metadata": {},
   "outputs": [],
   "source": [
    "model.compile(loss=\"mean_squared_error\",\n",
    "             optimizer = keras.optimizers.SGD(learning_rate=1e-3),\n",
    "             metrics=\"mae\")"
   ]
  },
  {
   "cell_type": "code",
   "execution_count": 23,
   "id": "97b35955",
   "metadata": {},
   "outputs": [
    {
     "name": "stdout",
     "output_type": "stream",
     "text": [
      "Epoch 1/40\n",
      "363/363 [==============================] - 1s 3ms/step - loss: 2.6311 - mae: 1.2215 - val_loss: 0.8798 - val_mae: 0.6026\n",
      "Epoch 2/40\n",
      "363/363 [==============================] - 1s 3ms/step - loss: 0.7247 - mae: 0.6113 - val_loss: 0.6420 - val_mae: 0.5764\n",
      "Epoch 3/40\n",
      "363/363 [==============================] - 1s 2ms/step - loss: 0.6447 - mae: 0.5825 - val_loss: 0.5891 - val_mae: 0.5503\n",
      "Epoch 4/40\n",
      "363/363 [==============================] - 1s 2ms/step - loss: 0.6127 - mae: 0.5669 - val_loss: 0.5455 - val_mae: 0.5343\n",
      "Epoch 5/40\n",
      "363/363 [==============================] - 1s 3ms/step - loss: 0.5640 - mae: 0.5459 - val_loss: 0.5409 - val_mae: 0.5202\n",
      "Epoch 6/40\n",
      "363/363 [==============================] - ETA: 0s - loss: 0.5332 - mae: 0.531 - 1s 2ms/step - loss: 0.5332 - mae: 0.5312 - val_loss: 0.4903 - val_mae: 0.5046\n",
      "Epoch 7/40\n",
      "363/363 [==============================] - 1s 2ms/step - loss: 0.5296 - mae: 0.5245 - val_loss: 0.4728 - val_mae: 0.4962\n",
      "Epoch 8/40\n",
      "363/363 [==============================] - 1s 2ms/step - loss: 0.5028 - mae: 0.5129 - val_loss: 0.5017 - val_mae: 0.4921\n",
      "Epoch 9/40\n",
      "363/363 [==============================] - 1s 2ms/step - loss: 0.4835 - mae: 0.5051 - val_loss: 0.4511 - val_mae: 0.4811\n",
      "Epoch 10/40\n",
      "363/363 [==============================] - 1s 2ms/step - loss: 0.4739 - mae: 0.4987 - val_loss: 0.4330 - val_mae: 0.4735\n",
      "Epoch 11/40\n",
      "363/363 [==============================] - 1s 2ms/step - loss: 0.4595 - mae: 0.4894 - val_loss: 0.4991 - val_mae: 0.4778\n",
      "Epoch 12/40\n",
      "363/363 [==============================] - 1s 3ms/step - loss: 0.4494 - mae: 0.4860 - val_loss: 0.4179 - val_mae: 0.4658\n",
      "Epoch 13/40\n",
      "363/363 [==============================] - 1s 2ms/step - loss: 0.4469 - mae: 0.4819 - val_loss: 0.4409 - val_mae: 0.4658\n",
      "Epoch 14/40\n",
      "363/363 [==============================] - 1s 2ms/step - loss: 0.4359 - mae: 0.4772 - val_loss: 0.4239 - val_mae: 0.4621\n",
      "Epoch 15/40\n",
      "363/363 [==============================] - 1s 2ms/step - loss: 0.4362 - mae: 0.4702 - val_loss: 0.4480 - val_mae: 0.4601\n",
      "Epoch 16/40\n",
      "363/363 [==============================] - 1s 3ms/step - loss: 0.4397 - mae: 0.4766 - val_loss: 0.4113 - val_mae: 0.4550\n",
      "Epoch 17/40\n",
      "363/363 [==============================] - 1s 2ms/step - loss: 0.4186 - mae: 0.4651 - val_loss: 0.4454 - val_mae: 0.4538\n",
      "Epoch 18/40\n",
      "363/363 [==============================] - 1s 2ms/step - loss: 0.4165 - mae: 0.4680 - val_loss: 0.4537 - val_mae: 0.4518\n",
      "Epoch 19/40\n",
      "363/363 [==============================] - 1s 3ms/step - loss: 0.4031 - mae: 0.4595 - val_loss: 0.4084 - val_mae: 0.4477\n",
      "Epoch 20/40\n",
      "363/363 [==============================] - 1s 2ms/step - loss: 0.3976 - mae: 0.4531 - val_loss: 0.4581 - val_mae: 0.4505\n",
      "Epoch 21/40\n",
      "363/363 [==============================] - 1s 2ms/step - loss: 0.4074 - mae: 0.4584 - val_loss: 0.4267 - val_mae: 0.4487\n",
      "Epoch 22/40\n",
      "363/363 [==============================] - 1s 3ms/step - loss: 0.3908 - mae: 0.4505 - val_loss: 0.4677 - val_mae: 0.4485\n",
      "Epoch 23/40\n",
      "363/363 [==============================] - 1s 3ms/step - loss: 0.4186 - mae: 0.4644 - val_loss: 0.3940 - val_mae: 0.4390\n",
      "Epoch 24/40\n",
      "363/363 [==============================] - 1s 2ms/step - loss: 0.3946 - mae: 0.4509 - val_loss: 0.4277 - val_mae: 0.4410\n",
      "Epoch 25/40\n",
      "363/363 [==============================] - 1s 2ms/step - loss: 0.3923 - mae: 0.4514 - val_loss: 0.4414 - val_mae: 0.4412\n",
      "Epoch 26/40\n",
      "363/363 [==============================] - 1s 2ms/step - loss: 0.3945 - mae: 0.4493 - val_loss: 0.4365 - val_mae: 0.4393\n",
      "Epoch 27/40\n",
      "363/363 [==============================] - 1s 2ms/step - loss: 0.3977 - mae: 0.4496 - val_loss: 0.3854 - val_mae: 0.4354\n",
      "Epoch 28/40\n",
      "363/363 [==============================] - 1s 2ms/step - loss: 0.3951 - mae: 0.4502 - val_loss: 0.4330 - val_mae: 0.4401\n",
      "Epoch 29/40\n",
      "363/363 [==============================] - 1s 3ms/step - loss: 0.3832 - mae: 0.4455 - val_loss: 0.4135 - val_mae: 0.4373\n",
      "Epoch 30/40\n",
      "363/363 [==============================] - 1s 3ms/step - loss: 0.3928 - mae: 0.4480 - val_loss: 0.4344 - val_mae: 0.4358\n",
      "Epoch 31/40\n",
      "363/363 [==============================] - 1s 3ms/step - loss: 0.3821 - mae: 0.4437 - val_loss: 0.4016 - val_mae: 0.4332\n",
      "Epoch 32/40\n",
      "363/363 [==============================] - 1s 3ms/step - loss: 0.3778 - mae: 0.4449 - val_loss: 0.4459 - val_mae: 0.4380\n",
      "Epoch 33/40\n",
      "363/363 [==============================] - 1s 3ms/step - loss: 0.3813 - mae: 0.4446 - val_loss: 0.3866 - val_mae: 0.4319\n",
      "Epoch 34/40\n",
      "363/363 [==============================] - 1s 3ms/step - loss: 0.3707 - mae: 0.4348 - val_loss: 0.3923 - val_mae: 0.4323\n",
      "Epoch 35/40\n",
      "363/363 [==============================] - 1s 3ms/step - loss: 0.3667 - mae: 0.4337 - val_loss: 0.4512 - val_mae: 0.4358\n",
      "Epoch 36/40\n",
      "363/363 [==============================] - 1s 3ms/step - loss: 0.3654 - mae: 0.4347 - val_loss: 0.3639 - val_mae: 0.4268\n",
      "Epoch 37/40\n",
      "363/363 [==============================] - 1s 2ms/step - loss: 0.3969 - mae: 0.4433 - val_loss: 0.4068 - val_mae: 0.4309\n",
      "Epoch 38/40\n",
      "363/363 [==============================] - 1s 2ms/step - loss: 0.3675 - mae: 0.4300 - val_loss: 0.3776 - val_mae: 0.4276\n",
      "Epoch 39/40\n",
      "363/363 [==============================] - 1s 3ms/step - loss: 0.3905 - mae: 0.4425 - val_loss: 0.3774 - val_mae: 0.4266\n",
      "Epoch 40/40\n",
      "363/363 [==============================] - 1s 2ms/step - loss: 0.3672 - mae: 0.4311 - val_loss: 0.3940 - val_mae: 0.4262\n"
     ]
    }
   ],
   "source": [
    "model_history = model.fit(X_train, y_train, epochs = 40, validation_data=(X_valid, y_valid))"
   ]
  },
  {
   "cell_type": "code",
   "execution_count": 24,
   "id": "199de506",
   "metadata": {},
   "outputs": [
    {
     "name": "stdout",
     "output_type": "stream",
     "text": [
      "162/162 [==============================] - 0s 1ms/step - loss: 0.3684 - mae: 0.4314\n"
     ]
    }
   ],
   "source": [
    "mae_test = model.evaluate(X_test, y_test)\n"
   ]
  },
  {
   "cell_type": "code",
   "execution_count": 25,
   "id": "989a3989",
   "metadata": {},
   "outputs": [
    {
     "name": "stdout",
     "output_type": "stream",
     "text": [
      "[0.3684495985507965, 0.4313908517360687]\n"
     ]
    }
   ],
   "source": [
    "print(mae_test)"
   ]
  },
  {
   "cell_type": "code",
   "execution_count": 26,
   "id": "5da78f21",
   "metadata": {},
   "outputs": [
    {
     "data": {
      "text/plain": [
       "{'loss': [1.6920058727264404,\n",
       "  0.6836402416229248,\n",
       "  0.626488208770752,\n",
       "  0.5877465605735779,\n",
       "  0.5565561056137085,\n",
       "  0.5311980247497559,\n",
       "  0.5107864141464233,\n",
       "  0.4951668083667755,\n",
       "  0.4802228510379791,\n",
       "  0.4684668779373169,\n",
       "  0.45896390080451965,\n",
       "  0.45022013783454895,\n",
       "  0.4432655870914459,\n",
       "  0.4363251030445099,\n",
       "  0.4306240975856781,\n",
       "  0.42534440755844116,\n",
       "  0.4212935268878937,\n",
       "  0.41681814193725586,\n",
       "  0.4126456081867218,\n",
       "  0.4095860719680786,\n",
       "  0.40596330165863037,\n",
       "  0.4029441177845001,\n",
       "  0.4000454246997833,\n",
       "  0.3971883952617645,\n",
       "  0.3946213722229004,\n",
       "  0.39249086380004883,\n",
       "  0.3904934525489807,\n",
       "  0.38845276832580566,\n",
       "  0.3867104947566986,\n",
       "  0.38484394550323486,\n",
       "  0.38295263051986694,\n",
       "  0.3815838396549225,\n",
       "  0.38052698969841003,\n",
       "  0.3787004351615906,\n",
       "  0.3775610029697418,\n",
       "  0.3762996792793274,\n",
       "  0.3750821352005005,\n",
       "  0.3740888237953186,\n",
       "  0.37281912565231323,\n",
       "  0.37164339423179626],\n",
       " 'mae': [0.8892966508865356,\n",
       "  0.5993583798408508,\n",
       "  0.577479362487793,\n",
       "  0.558142364025116,\n",
       "  0.542133629322052,\n",
       "  0.529751718044281,\n",
       "  0.518592119216919,\n",
       "  0.5096290707588196,\n",
       "  0.5025359988212585,\n",
       "  0.4959278404712677,\n",
       "  0.4896956980228424,\n",
       "  0.48507025837898254,\n",
       "  0.48114851117134094,\n",
       "  0.47656989097595215,\n",
       "  0.47358405590057373,\n",
       "  0.4702601432800293,\n",
       "  0.4676000773906708,\n",
       "  0.4649645686149597,\n",
       "  0.46159082651138306,\n",
       "  0.46004408597946167,\n",
       "  0.45732980966567993,\n",
       "  0.4559226632118225,\n",
       "  0.4541971981525421,\n",
       "  0.4514613151550293,\n",
       "  0.45023712515830994,\n",
       "  0.4487706422805786,\n",
       "  0.447237104177475,\n",
       "  0.44550415873527527,\n",
       "  0.44481360912323,\n",
       "  0.4434996247291565,\n",
       "  0.4420064389705658,\n",
       "  0.44095098972320557,\n",
       "  0.4407837688922882,\n",
       "  0.4392606019973755,\n",
       "  0.4382893145084381,\n",
       "  0.4378648102283478,\n",
       "  0.43653449416160583,\n",
       "  0.4362204670906067,\n",
       "  0.4352169930934906,\n",
       "  0.43449121713638306],\n",
       " 'val_loss': [0.8797987103462219,\n",
       "  0.6420254111289978,\n",
       "  0.589079737663269,\n",
       "  0.54546719789505,\n",
       "  0.5408936142921448,\n",
       "  0.4903126060962677,\n",
       "  0.4728315770626068,\n",
       "  0.5017253160476685,\n",
       "  0.451064795255661,\n",
       "  0.4330177903175354,\n",
       "  0.4991108477115631,\n",
       "  0.4179278314113617,\n",
       "  0.44088876247406006,\n",
       "  0.4238821268081665,\n",
       "  0.4480248987674713,\n",
       "  0.41133445501327515,\n",
       "  0.4454249143600464,\n",
       "  0.45374637842178345,\n",
       "  0.40842658281326294,\n",
       "  0.45806536078453064,\n",
       "  0.4266926944255829,\n",
       "  0.46774592995643616,\n",
       "  0.3939915597438812,\n",
       "  0.42766427993774414,\n",
       "  0.44141507148742676,\n",
       "  0.4365401268005371,\n",
       "  0.3854198753833771,\n",
       "  0.43295976519584656,\n",
       "  0.4135218560695648,\n",
       "  0.4343792200088501,\n",
       "  0.4016262888908386,\n",
       "  0.4458604156970978,\n",
       "  0.3866463601589203,\n",
       "  0.3922860324382782,\n",
       "  0.4512174129486084,\n",
       "  0.36394190788269043,\n",
       "  0.40684083104133606,\n",
       "  0.3775958716869354,\n",
       "  0.37737974524497986,\n",
       "  0.3939821422100067],\n",
       " 'val_mae': [0.6026318669319153,\n",
       "  0.5763723850250244,\n",
       "  0.5502772331237793,\n",
       "  0.534281313419342,\n",
       "  0.5201656818389893,\n",
       "  0.5045694708824158,\n",
       "  0.49619969725608826,\n",
       "  0.49206578731536865,\n",
       "  0.48105910420417786,\n",
       "  0.47347646951675415,\n",
       "  0.4778074026107788,\n",
       "  0.46584856510162354,\n",
       "  0.46577662229537964,\n",
       "  0.4620625376701355,\n",
       "  0.46006855368614197,\n",
       "  0.4549531042575836,\n",
       "  0.4538361132144928,\n",
       "  0.45184800028800964,\n",
       "  0.4477086663246155,\n",
       "  0.45054298639297485,\n",
       "  0.44869232177734375,\n",
       "  0.4484681189060211,\n",
       "  0.4389905333518982,\n",
       "  0.4409761428833008,\n",
       "  0.4411562383174896,\n",
       "  0.4393332004547119,\n",
       "  0.43537744879722595,\n",
       "  0.44010308384895325,\n",
       "  0.43728289008140564,\n",
       "  0.43581831455230713,\n",
       "  0.43319469690322876,\n",
       "  0.4379950165748596,\n",
       "  0.43194225430488586,\n",
       "  0.4322570264339447,\n",
       "  0.43577542901039124,\n",
       "  0.42683690786361694,\n",
       "  0.4309115707874298,\n",
       "  0.4276334047317505,\n",
       "  0.4266054630279541,\n",
       "  0.4261508882045746]}"
      ]
     },
     "execution_count": 26,
     "metadata": {},
     "output_type": "execute_result"
    }
   ],
   "source": [
    "model_history.history"
   ]
  },
  {
   "cell_type": "code",
   "execution_count": 27,
   "id": "a509ddd0",
   "metadata": {},
   "outputs": [
    {
     "data": {
      "image/png": "[encoded data removed]",
      "text/plain": [
       "<Figure size 576x360 with 1 Axes>"
      ]
     },
     "metadata": {
      "needs_background": "light"
     },
     "output_type": "display_data"
    }
   ],
   "source": [
    "pd.DataFrame(model_history.history).plot(figsize=(8,5))\n",
    "plt.grid(True)\n",
    "plt.gca().set_ylim(0,1)\n",
    "plt.show()"
   ]
  },
  {
   "cell_type": "markdown",
   "id": "bc9c737f",
   "metadata": {},
   "source": [
    "# Saving and Restoring"
   ]
  },
  {
   "cell_type": "code",
   "execution_count": 37,
   "id": "39c10e45",
   "metadata": {},
   "outputs": [
    {
     "name": "stdout",
     "output_type": "stream",
     "text": [
      "WARNING:tensorflow:Compiled the loaded model, but the compiled metrics have yet to be built. `model.compile_metrics` will be empty until you train or evaluate the model.\n",
      "INFO:tensorflow:Assets written to: thebatmanv2.0.h5py\\assets\n"
     ]
    }
   ],
   "source": [
    "model.save(\"thebatmanv2.0.h5py\")"
   ]
  },
  {
   "cell_type": "code",
   "execution_count": 29,
   "id": "2fe9c8b7",
   "metadata": {},
   "outputs": [
    {
     "data": {
      "text/plain": [
       "'C:\\\\Users\\\\admin\\\\Desktop\\\\python'"
      ]
     },
     "execution_count": 29,
     "metadata": {},
     "output_type": "execute_result"
    }
   ],
   "source": [
    "%pwd"
   ]
  },
  {
   "cell_type": "code",
   "execution_count": 30,
   "id": "8a85efc7",
   "metadata": {},
   "outputs": [],
   "source": [
    "del model"
   ]
  },
  {
   "cell_type": "code",
   "execution_count": 31,
   "id": "ebc76106",
   "metadata": {},
   "outputs": [],
   "source": [
    "keras.backend.clear_session()"
   ]
  },
  {
   "cell_type": "code",
   "execution_count": 38,
   "id": "e367c8b5",
   "metadata": {},
   "outputs": [
    {
     "ename": "OSError",
     "evalue": "SavedModel file does not exist at: thebatmanv2.0.h5pyy\\{saved_model.pbtxt|saved_model.pb}",
     "output_type": "error",
     "traceback": [
      "\u001b[1;31m---------------------------------------------------------------------------\u001b[0m",
      "\u001b[1;31mOSError\u001b[0m                                   Traceback (most recent call last)",
      "\u001b[1;32m~\\AppData\\Local\\Temp/ipykernel_13224/3496799293.py\u001b[0m in \u001b[0;36m<module>\u001b[1;34m\u001b[0m\n\u001b[1;32m----> 1\u001b[1;33m \u001b[0mmodel\u001b[0m \u001b[1;33m=\u001b[0m \u001b[0mkeras\u001b[0m\u001b[1;33m.\u001b[0m\u001b[0mmodels\u001b[0m\u001b[1;33m.\u001b[0m\u001b[0mload_model\u001b[0m\u001b[1;33m(\u001b[0m\u001b[1;34m\"thebatmanv2.0.h5pyy\"\u001b[0m\u001b[1;33m)\u001b[0m\u001b[1;33m\u001b[0m\u001b[1;33m\u001b[0m\u001b[0m\n\u001b[0m",
      "\u001b[1;32m~\\anaconda3\\lib\\site-packages\\tensorflow\\python\\keras\\saving\\save.py\u001b[0m in \u001b[0;36mload_model\u001b[1;34m(filepath, custom_objects, compile, options)\u001b[0m\n\u001b[0;32m    204\u001b[0m         \u001b[0mfilepath\u001b[0m \u001b[1;33m=\u001b[0m \u001b[0mpath_to_string\u001b[0m\u001b[1;33m(\u001b[0m\u001b[0mfilepath\u001b[0m\u001b[1;33m)\u001b[0m\u001b[1;33m\u001b[0m\u001b[1;33m\u001b[0m\u001b[0m\n\u001b[0;32m    205\u001b[0m         \u001b[1;32mif\u001b[0m \u001b[0misinstance\u001b[0m\u001b[1;33m(\u001b[0m\u001b[0mfilepath\u001b[0m\u001b[1;33m,\u001b[0m \u001b[0mstr\u001b[0m\u001b[1;33m)\u001b[0m\u001b[1;33m:\u001b[0m\u001b[1;33m\u001b[0m\u001b[1;33m\u001b[0m\u001b[0m\n\u001b[1;32m--> 206\u001b[1;33m           \u001b[1;32mreturn\u001b[0m \u001b[0msaved_model_load\u001b[0m\u001b[1;33m.\u001b[0m\u001b[0mload\u001b[0m\u001b[1;33m(\u001b[0m\u001b[0mfilepath\u001b[0m\u001b[1;33m,\u001b[0m \u001b[0mcompile\u001b[0m\u001b[1;33m,\u001b[0m \u001b[0moptions\u001b[0m\u001b[1;33m)\u001b[0m\u001b[1;33m\u001b[0m\u001b[1;33m\u001b[0m\u001b[0m\n\u001b[0m\u001b[0;32m    207\u001b[0m \u001b[1;33m\u001b[0m\u001b[0m\n\u001b[0;32m    208\u001b[0m   raise IOError(\n",
      "\u001b[1;32m~\\anaconda3\\lib\\site-packages\\tensorflow\\python\\keras\\saving\\saved_model\\load.py\u001b[0m in \u001b[0;36mload\u001b[1;34m(path, compile, options)\u001b[0m\n\u001b[0;32m    119\u001b[0m   \u001b[1;31m# Look for metadata file or parse the SavedModel\u001b[0m\u001b[1;33m\u001b[0m\u001b[1;33m\u001b[0m\u001b[0m\n\u001b[0;32m    120\u001b[0m   \u001b[0mmetadata\u001b[0m \u001b[1;33m=\u001b[0m \u001b[0msaved_metadata_pb2\u001b[0m\u001b[1;33m.\u001b[0m\u001b[0mSavedMetadata\u001b[0m\u001b[1;33m(\u001b[0m\u001b[1;33m)\u001b[0m\u001b[1;33m\u001b[0m\u001b[1;33m\u001b[0m\u001b[0m\n\u001b[1;32m--> 121\u001b[1;33m   \u001b[0mmeta_graph_def\u001b[0m \u001b[1;33m=\u001b[0m \u001b[0mloader_impl\u001b[0m\u001b[1;33m.\u001b[0m\u001b[0mparse_saved_model\u001b[0m\u001b[1;33m(\u001b[0m\u001b[0mpath\u001b[0m\u001b[1;33m)\u001b[0m\u001b[1;33m.\u001b[0m\u001b[0mmeta_graphs\u001b[0m\u001b[1;33m[\u001b[0m\u001b[1;36m0\u001b[0m\u001b[1;33m]\u001b[0m\u001b[1;33m\u001b[0m\u001b[1;33m\u001b[0m\u001b[0m\n\u001b[0m\u001b[0;32m    122\u001b[0m   \u001b[0mobject_graph_def\u001b[0m \u001b[1;33m=\u001b[0m \u001b[0mmeta_graph_def\u001b[0m\u001b[1;33m.\u001b[0m\u001b[0mobject_graph_def\u001b[0m\u001b[1;33m\u001b[0m\u001b[1;33m\u001b[0m\u001b[0m\n\u001b[0;32m    123\u001b[0m   \u001b[0mpath_to_metadata_pb\u001b[0m \u001b[1;33m=\u001b[0m \u001b[0mos\u001b[0m\u001b[1;33m.\u001b[0m\u001b[0mpath\u001b[0m\u001b[1;33m.\u001b[0m\u001b[0mjoin\u001b[0m\u001b[1;33m(\u001b[0m\u001b[0mpath\u001b[0m\u001b[1;33m,\u001b[0m \u001b[0mconstants\u001b[0m\u001b[1;33m.\u001b[0m\u001b[0mSAVED_METADATA_PATH\u001b[0m\u001b[1;33m)\u001b[0m\u001b[1;33m\u001b[0m\u001b[1;33m\u001b[0m\u001b[0m\n",
      "\u001b[1;32m~\\anaconda3\\lib\\site-packages\\tensorflow\\python\\saved_model\\loader_impl.py\u001b[0m in \u001b[0;36mparse_saved_model\u001b[1;34m(export_dir)\u001b[0m\n\u001b[0;32m    111\u001b[0m       \u001b[1;32mraise\u001b[0m \u001b[0mIOError\u001b[0m\u001b[1;33m(\u001b[0m\u001b[1;34m\"Cannot parse file %s: %s.\"\u001b[0m \u001b[1;33m%\u001b[0m \u001b[1;33m(\u001b[0m\u001b[0mpath_to_pbtxt\u001b[0m\u001b[1;33m,\u001b[0m \u001b[0mstr\u001b[0m\u001b[1;33m(\u001b[0m\u001b[0me\u001b[0m\u001b[1;33m)\u001b[0m\u001b[1;33m)\u001b[0m\u001b[1;33m)\u001b[0m\u001b[1;33m\u001b[0m\u001b[1;33m\u001b[0m\u001b[0m\n\u001b[0;32m    112\u001b[0m   \u001b[1;32melse\u001b[0m\u001b[1;33m:\u001b[0m\u001b[1;33m\u001b[0m\u001b[1;33m\u001b[0m\u001b[0m\n\u001b[1;32m--> 113\u001b[1;33m     raise IOError(\n\u001b[0m\u001b[0;32m    114\u001b[0m         \u001b[1;34m\"SavedModel file does not exist at: %s%s{%s|%s}\"\u001b[0m \u001b[1;33m%\u001b[0m\u001b[1;33m\u001b[0m\u001b[1;33m\u001b[0m\u001b[0m\n\u001b[0;32m    115\u001b[0m         (export_dir, os.path.sep, constants.SAVED_MODEL_FILENAME_PBTXT,\n",
      "\u001b[1;31mOSError\u001b[0m: SavedModel file does not exist at: thebatmanv2.0.h5pyy\\{saved_model.pbtxt|saved_model.pb}"
     ]
    }
   ],
   "source": [
    "model = keras.models.load_model(\"thebatmanv2.0.h5pyy\")"
   ]
  },
  {
   "cell_type": "code",
   "execution_count": 39,
   "id": "4bf5cff8",
   "metadata": {},
   "outputs": [
    {
     "name": "stdout",
     "output_type": "stream",
     "text": [
      "Model: \"sequential\"\n",
      "_________________________________________________________________\n",
      "Layer (type)                 Output Shape              Param #   \n",
      "=================================================================\n",
      "dense (Dense)                (None, 30)                270       \n",
      "_________________________________________________________________\n",
      "dense_1 (Dense)              (None, 30)                930       \n",
      "_________________________________________________________________\n",
      "dense_2 (Dense)              (None, 1)                 31        \n",
      "=================================================================\n",
      "Total params: 1,231\n",
      "Trainable params: 1,231\n",
      "Non-trainable params: 0\n",
      "_________________________________________________________________\n"
     ]
    }
   ],
   "source": [
    "model.summary()"
   ]
  },
  {
   "cell_type": "code",
   "execution_count": 40,
   "id": "308ce67a",
   "metadata": {},
   "outputs": [
    {
     "name": "stdout",
     "output_type": "stream",
     "text": [
      "[[0.29032153]\n",
      " [0.26036867]\n",
      " [0.73302364]]\n"
     ]
    }
   ],
   "source": [
    "y_pred=model.predict(X_new)\n",
    "print(y_pred)"
   ]
  },
  {
   "cell_type": "markdown",
   "id": "fda9180f",
   "metadata": {},
   "source": [
    "# Using callbacks during the training"
   ]
  },
  {
   "cell_type": "code",
   "execution_count": 42,
   "id": "751a1de5",
   "metadata": {},
   "outputs": [],
   "source": [
    "keras.backend.clear_session()\n",
    "np.random.seed(42)\n",
    "tf.random.set_seed(42)"
   ]
  },
  {
   "cell_type": "code",
   "execution_count": 43,
   "id": "78179150",
   "metadata": {},
   "outputs": [],
   "source": [
    "model = keras.models.Sequential([\n",
    "    keras.layers.Dense(30, activation=\"relu\", input_shape=[8]),\n",
    "    keras.layers.Dense(30, activation=\"relu\"),\n",
    "    keras.layers.Dense(1)\n",
    "])"
   ]
  },
  {
   "cell_type": "code",
   "execution_count": 44,
   "id": "03465be1",
   "metadata": {},
   "outputs": [],
   "source": [
    "model.compile(loss=\"mse\",optimizer=keras.optimizers.SGD(learning_rate=1e-3))"
   ]
  },
  {
   "cell_type": "code",
   "execution_count": 45,
   "id": "f7159808",
   "metadata": {},
   "outputs": [],
   "source": [
    "checkpoint_cb = keras.callbacks.ModelCheckpoint(\"Model-{epoch:02d}.h5py\")"
   ]
  },
  {
   "cell_type": "code",
   "execution_count": 46,
   "id": "df95659f",
   "metadata": {},
   "outputs": [
    {
     "name": "stdout",
     "output_type": "stream",
     "text": [
      "Epoch 1/10\n",
      "363/363 [==============================] - 2s 3ms/step - loss: 3.3697 - val_loss: 0.7126\n",
      "INFO:tensorflow:Assets written to: Model-01.h5py\\assets\n",
      "Epoch 2/10\n",
      "363/363 [==============================] - 1s 2ms/step - loss: 0.6964 - val_loss: 0.6880\n",
      "INFO:tensorflow:Assets written to: Model-02.h5py\\assets\n",
      "Epoch 3/10\n",
      "363/363 [==============================] - 1s 3ms/step - loss: 0.6167 - val_loss: 0.5803\n",
      "INFO:tensorflow:Assets written to: Model-03.h5py\\assets\n",
      "Epoch 4/10\n",
      "363/363 [==============================] - 1s 3ms/step - loss: 0.5846 - val_loss: 0.5166\n",
      "INFO:tensorflow:Assets written to: Model-04.h5py\\assets\n",
      "Epoch 5/10\n",
      "363/363 [==============================] - 1s 2ms/step - loss: 0.5321 - val_loss: 0.4895\n",
      "INFO:tensorflow:Assets written to: Model-05.h5py\\assets\n",
      "Epoch 6/10\n",
      "363/363 [==============================] - 1s 2ms/step - loss: 0.5083 - val_loss: 0.4951\n",
      "INFO:tensorflow:Assets written to: Model-06.h5py\\assets\n",
      "Epoch 7/10\n",
      "363/363 [==============================] - 1s 3ms/step - loss: 0.5044 - val_loss: 0.4861\n",
      "INFO:tensorflow:Assets written to: Model-07.h5py\\assets\n",
      "Epoch 8/10\n",
      "363/363 [==============================] - 1s 2ms/step - loss: 0.4813 - val_loss: 0.4554\n",
      "INFO:tensorflow:Assets written to: Model-08.h5py\\assets\n",
      "Epoch 9/10\n",
      "363/363 [==============================] - 1s 2ms/step - loss: 0.4627 - val_loss: 0.4413\n",
      "INFO:tensorflow:Assets written to: Model-09.h5py\\assets\n",
      "Epoch 10/10\n",
      "363/363 [==============================] - 1s 3ms/step - loss: 0.4549 - val_loss: 0.4379\n",
      "INFO:tensorflow:Assets written to: Model-10.h5py\\assets\n"
     ]
    }
   ],
   "source": [
    "model_history = model.fit(X_train, y_train, epochs = 10, validation_data=(X_valid, y_valid), callbacks=[checkpoint_cb])"
   ]
  },
  {
   "cell_type": "code",
   "execution_count": null,
   "id": "aaf37098",
   "metadata": {},
   "outputs": [],
   "source": [
    "del model\n",
    "keras.backend.clear_session()"
   ]
  },
  {
   "cell_type": "code",
   "execution_count": null,
   "id": "e8ec577a",
   "metadata": {},
   "outputs": [],
   "source": [
    "model = keras.models.load_model(\"Model-10.h5py\")"
   ]
  },
  {
   "cell_type": "code",
   "execution_count": null,
   "id": "7bd89016",
   "metadata": {},
   "outputs": [],
   "source": [
    "mse_test = model.evaluate(X_test, y_test)"
   ]
  },
  {
   "cell_type": "markdown",
   "id": "86ff4842",
   "metadata": {},
   "source": [
    "# Best model only"
   ]
  },
  {
   "cell_type": "code",
   "execution_count": null,
   "id": "56b1b730",
   "metadata": {},
   "outputs": [],
   "source": [
    "del model\n",
    "keras.backend.clear_session()"
   ]
  },
  {
   "cell_type": "code",
   "execution_count": null,
   "id": "20ee1b49",
   "metadata": {},
   "outputs": [],
   "source": [
    "model = keras.models.Sequential([\n",
    "    keras.layers.Dense(30, activation=\"relu\", input_shape=[8]),\n",
    "    keras.layers.Dense(30, activation=\"relu\"),\n",
    "    keras.layers.Dense(1)\n",
    "])"
   ]
  },
  {
   "cell_type": "code",
   "execution_count": null,
   "id": "52b565c3",
   "metadata": {},
   "outputs": [],
   "source": [
    "model.compile(loss=\"mse\",optimizer=keras.optimizers.SGD(learning_rate=1e-3))"
   ]
  },
  {
   "cell_type": "code",
   "execution_count": null,
   "id": "176f352b",
   "metadata": {},
   "outputs": [],
   "source": [
    "checkpoint_cb = keras.callbacks.ModelCheckpoint(\"Best_Model.h5py\", save_best_only=True)"
   ]
  },
  {
   "cell_type": "code",
   "execution_count": null,
   "id": "425f26c4",
   "metadata": {},
   "outputs": [],
   "source": [
    "model_history = model.fit(X_train, y_train, epochs = 10, validation_data=(X_valid, y_valid), callbacks=[checkpoint_cb])"
   ]
  },
  {
   "cell_type": "code",
   "execution_count": null,
   "id": "2c3f83cd",
   "metadata": {},
   "outputs": [],
   "source": [
    "model = keras.models.load_model(\"Best_Model.h5py\")"
   ]
  },
  {
   "cell_type": "code",
   "execution_count": null,
   "id": "e8c258b6",
   "metadata": {},
   "outputs": [],
   "source": [
    "mse_test=model.evaluate(X_test,y_test)"
   ]
  },
  {
   "cell_type": "markdown",
   "id": "e04b8a9d",
   "metadata": {},
   "source": [
    "# Early stop model"
   ]
  },
  {
   "cell_type": "code",
   "execution_count": 47,
   "id": "cce5a772",
   "metadata": {},
   "outputs": [],
   "source": [
    "del model\n",
    "keras.backend.clear_session()"
   ]
  },
  {
   "cell_type": "code",
   "execution_count": 48,
   "id": "e4af6de3",
   "metadata": {},
   "outputs": [],
   "source": [
    "model = keras.models.Sequential([\n",
    "    keras.layers.Dense(30, activation=\"relu\", input_shape=[8]),\n",
    "    keras.layers.Dense(30, activation=\"relu\"),\n",
    "    keras.layers.Dense(1)\n",
    "])"
   ]
  },
  {
   "cell_type": "code",
   "execution_count": 49,
   "id": "591f0898",
   "metadata": {},
   "outputs": [],
   "source": [
    "model.compile(loss=\"mse\",optimizer=keras.optimizers.SGD(learning_rate=1e-3))"
   ]
  },
  {
   "cell_type": "code",
   "execution_count": 50,
   "id": "9269631a",
   "metadata": {},
   "outputs": [],
   "source": [
    "checkpoint_cb = keras.callbacks.ModelCheckpoint(\"early_stop_model.h5py\", save_best_only=True)"
   ]
  },
  {
   "cell_type": "code",
   "execution_count": 51,
   "id": "6e8854b9",
   "metadata": {},
   "outputs": [],
   "source": [
    "early_stopping_cb = keras.callbacks.EarlyStopping(patience = 10, restore_best_weights=True)"
   ]
  },
  {
   "cell_type": "code",
   "execution_count": 54,
   "id": "e02aaf26",
   "metadata": {},
   "outputs": [
    {
     "name": "stdout",
     "output_type": "stream",
     "text": [
      "Epoch 1/200\n",
      "363/363 [==============================] - 2s 3ms/step - loss: 3.0681 - val_loss: 1.3779\n",
      "INFO:tensorflow:Assets written to: early_stop_model.h5py\\assets\n",
      "Epoch 2/200\n",
      "363/363 [==============================] - 1s 2ms/step - loss: 0.8428 - val_loss: 0.6885\n",
      "INFO:tensorflow:Assets written to: early_stop_model.h5py\\assets\n",
      "Epoch 3/200\n",
      "363/363 [==============================] - 1s 2ms/step - loss: 0.7087 - val_loss: 0.6645\n",
      "INFO:tensorflow:Assets written to: early_stop_model.h5py\\assets\n",
      "Epoch 4/200\n",
      "363/363 [==============================] - 1s 2ms/step - loss: 0.6599 - val_loss: 0.5944\n",
      "INFO:tensorflow:Assets written to: early_stop_model.h5py\\assets\n",
      "Epoch 5/200\n",
      "363/363 [==============================] - 1s 2ms/step - loss: 0.5955 - val_loss: 0.5505\n",
      "INFO:tensorflow:Assets written to: early_stop_model.h5py\\assets\n",
      "Epoch 6/200\n",
      "363/363 [==============================] - 1s 2ms/step - loss: 0.5569 - val_loss: 0.5211\n",
      "INFO:tensorflow:Assets written to: early_stop_model.h5py\\assets\n",
      "Epoch 7/200\n",
      "363/363 [==============================] - 1s 2ms/step - loss: 0.5480 - val_loss: 0.5055\n",
      "INFO:tensorflow:Assets written to: early_stop_model.h5py\\assets\n",
      "Epoch 8/200\n",
      "363/363 [==============================] - 1s 2ms/step - loss: 0.5099 - val_loss: 0.4648\n",
      "INFO:tensorflow:Assets written to: early_stop_model.h5py\\assets\n",
      "Epoch 9/200\n",
      "363/363 [==============================] - 1s 2ms/step - loss: 0.4885 - val_loss: 0.4442\n",
      "INFO:tensorflow:Assets written to: early_stop_model.h5py\\assets\n",
      "Epoch 10/200\n",
      "363/363 [==============================] - 1s 2ms/step - loss: 0.4710 - val_loss: 0.4304\n",
      "INFO:tensorflow:Assets written to: early_stop_model.h5py\\assets\n",
      "Epoch 11/200\n",
      "363/363 [==============================] - 1s 2ms/step - loss: 0.4519 - val_loss: 0.4183\n",
      "INFO:tensorflow:Assets written to: early_stop_model.h5py\\assets\n",
      "Epoch 12/200\n",
      "363/363 [==============================] - 1s 2ms/step - loss: 0.4409 - val_loss: 0.4100\n",
      "INFO:tensorflow:Assets written to: early_stop_model.h5py\\assets\n",
      "Epoch 13/200\n",
      "363/363 [==============================] - 1s 2ms/step - loss: 0.4391 - val_loss: 0.4051\n",
      "INFO:tensorflow:Assets written to: early_stop_model.h5py\\assets\n",
      "Epoch 14/200\n",
      "363/363 [==============================] - 1s 2ms/step - loss: 0.4254 - val_loss: 0.4001\n",
      "INFO:tensorflow:Assets written to: early_stop_model.h5py\\assets\n",
      "Epoch 15/200\n",
      "363/363 [==============================] - 1s 2ms/step - loss: 0.4240 - val_loss: 0.3987\n",
      "INFO:tensorflow:Assets written to: early_stop_model.h5py\\assets\n",
      "Epoch 16/200\n",
      "363/363 [==============================] - 1s 2ms/step - loss: 0.4269 - val_loss: 0.3908\n",
      "INFO:tensorflow:Assets written to: early_stop_model.h5py\\assets\n",
      "Epoch 17/200\n",
      "363/363 [==============================] - 1s 2ms/step - loss: 0.4098 - val_loss: 0.4004\n",
      "Epoch 18/200\n",
      "363/363 [==============================] - 1s 2ms/step - loss: 0.4068 - val_loss: 0.3939\n",
      "Epoch 19/200\n",
      "363/363 [==============================] - 1s 2ms/step - loss: 0.3961 - val_loss: 0.3909\n",
      "Epoch 20/200\n",
      "363/363 [==============================] - 1s 3ms/step - loss: 0.3886 - val_loss: 0.4167\n",
      "Epoch 21/200\n",
      "363/363 [==============================] - 1s 2ms/step - loss: 0.3983 - val_loss: 0.4131\n",
      "Epoch 22/200\n",
      "363/363 [==============================] - 1s 2ms/step - loss: 0.3819 - val_loss: 0.4209\n",
      "Epoch 23/200\n",
      "363/363 [==============================] - 1s 2ms/step - loss: 0.4084 - val_loss: 0.3815\n",
      "INFO:tensorflow:Assets written to: early_stop_model.h5py\\assets\n",
      "Epoch 24/200\n",
      "363/363 [==============================] - 1s 2ms/step - loss: 0.3872 - val_loss: 0.3955\n",
      "Epoch 25/200\n",
      "363/363 [==============================] - 1s 2ms/step - loss: 0.3841 - val_loss: 0.4081\n",
      "Epoch 26/200\n",
      "363/363 [==============================] - 1s 2ms/step - loss: 0.3865 - val_loss: 0.4143\n",
      "Epoch 27/200\n",
      "363/363 [==============================] - 1s 3ms/step - loss: 0.3895 - val_loss: 0.3781\n",
      "INFO:tensorflow:Assets written to: early_stop_model.h5py\\assets\n",
      "Epoch 28/200\n",
      "363/363 [==============================] - 1s 2ms/step - loss: 0.3886 - val_loss: 0.3959\n",
      "Epoch 29/200\n",
      "363/363 [==============================] - 1s 2ms/step - loss: 0.3794 - val_loss: 0.3860\n",
      "Epoch 30/200\n",
      "363/363 [==============================] - 1s 2ms/step - loss: 0.3886 - val_loss: 0.4012\n",
      "Epoch 31/200\n",
      "363/363 [==============================] - 1s 2ms/step - loss: 0.3763 - val_loss: 0.3917\n",
      "Epoch 32/200\n",
      "363/363 [==============================] - 1s 2ms/step - loss: 0.3737 - val_loss: 0.4158\n",
      "Epoch 33/200\n",
      "363/363 [==============================] - 1s 2ms/step - loss: 0.3770 - val_loss: 0.3758\n",
      "INFO:tensorflow:Assets written to: early_stop_model.h5py\\assets\n",
      "Epoch 34/200\n",
      "363/363 [==============================] - 1s 2ms/step - loss: 0.3665 - val_loss: 0.3739\n",
      "INFO:tensorflow:Assets written to: early_stop_model.h5py\\assets\n",
      "Epoch 35/200\n",
      "363/363 [==============================] - 1s 2ms/step - loss: 0.3636 - val_loss: 0.4006\n",
      "Epoch 36/200\n",
      "363/363 [==============================] - 1s 2ms/step - loss: 0.3619 - val_loss: 0.3648\n",
      "INFO:tensorflow:Assets written to: early_stop_model.h5py\\assets\n",
      "Epoch 37/200\n",
      "363/363 [==============================] - 1s 2ms/step - loss: 0.3918 - val_loss: 0.3799\n",
      "Epoch 38/200\n",
      "363/363 [==============================] - 1s 3ms/step - loss: 0.3621 - val_loss: 0.3631\n",
      "INFO:tensorflow:Assets written to: early_stop_model.h5py\\assets\n",
      "Epoch 39/200\n",
      "363/363 [==============================] - 1s 2ms/step - loss: 0.3860 - val_loss: 0.3637\n",
      "Epoch 40/200\n",
      "363/363 [==============================] - 1s 2ms/step - loss: 0.3645 - val_loss: 0.3704\n",
      "Epoch 41/200\n",
      "363/363 [==============================] - 1s 2ms/step - loss: 0.3810 - val_loss: 0.3787\n",
      "Epoch 42/200\n",
      "363/363 [==============================] - 1s 2ms/step - loss: 0.3619 - val_loss: 0.3813\n",
      "Epoch 43/200\n",
      "363/363 [==============================] - 1s 2ms/step - loss: 0.3681 - val_loss: 0.3793\n",
      "Epoch 44/200\n",
      "363/363 [==============================] - 1s 2ms/step - loss: 0.3538 - val_loss: 0.3975\n",
      "Epoch 45/200\n",
      "363/363 [==============================] - 1s 2ms/step - loss: 0.3707 - val_loss: 0.3601\n",
      "INFO:tensorflow:Assets written to: early_stop_model.h5py\\assets\n",
      "Epoch 46/200\n",
      "363/363 [==============================] - 1s 2ms/step - loss: 0.3639 - val_loss: 0.3611\n",
      "Epoch 47/200\n",
      "363/363 [==============================] - 1s 3ms/step - loss: 0.3743 - val_loss: 0.3587\n",
      "INFO:tensorflow:Assets written to: early_stop_model.h5py\\assets\n",
      "Epoch 48/200\n",
      "363/363 [==============================] - 1s 2ms/step - loss: 0.3579 - val_loss: 0.3784\n",
      "Epoch 49/200\n",
      "363/363 [==============================] - 1s 3ms/step - loss: 0.3648 - val_loss: 0.3518\n",
      "INFO:tensorflow:Assets written to: early_stop_model.h5py\\assets\n",
      "Epoch 50/200\n",
      "363/363 [==============================] - 1s 3ms/step - loss: 0.3683 - val_loss: 0.3456\n",
      "INFO:tensorflow:Assets written to: early_stop_model.h5py\\assets\n",
      "Epoch 51/200\n",
      "363/363 [==============================] - 1s 2ms/step - loss: 0.3642 - val_loss: 0.3657\n",
      "Epoch 52/200\n",
      "363/363 [==============================] - 1s 2ms/step - loss: 0.3521 - val_loss: 0.3437\n",
      "INFO:tensorflow:Assets written to: early_stop_model.h5py\\assets\n",
      "Epoch 53/200\n",
      "363/363 [==============================] - 1s 2ms/step - loss: 0.3600 - val_loss: 0.3655\n",
      "Epoch 54/200\n",
      "363/363 [==============================] - 1s 3ms/step - loss: 0.3456 - val_loss: 0.3463\n",
      "Epoch 55/200\n",
      "363/363 [==============================] - 1s 3ms/step - loss: 0.3593 - val_loss: 0.3486\n",
      "Epoch 56/200\n",
      "363/363 [==============================] - 1s 3ms/step - loss: 0.3470 - val_loss: 0.3464\n",
      "Epoch 57/200\n",
      "363/363 [==============================] - 1s 2ms/step - loss: 0.3510 - val_loss: 0.3412\n",
      "INFO:tensorflow:Assets written to: early_stop_model.h5py\\assets\n",
      "Epoch 58/200\n",
      "363/363 [==============================] - 1s 2ms/step - loss: 0.3418 - val_loss: 0.3537\n",
      "Epoch 59/200\n",
      "363/363 [==============================] - 1s 2ms/step - loss: 0.3511 - val_loss: 0.3519\n",
      "Epoch 60/200\n",
      "363/363 [==============================] - 1s 2ms/step - loss: 0.3485 - val_loss: 0.3441\n",
      "Epoch 61/200\n",
      "363/363 [==============================] - 1s 2ms/step - loss: 0.3657 - val_loss: 0.3553\n",
      "Epoch 62/200\n",
      "363/363 [==============================] - 1s 2ms/step - loss: 0.3606 - val_loss: 0.3474\n",
      "Epoch 63/200\n",
      "363/363 [==============================] - 1s 2ms/step - loss: 0.3545 - val_loss: 0.3442\n"
     ]
    },
    {
     "name": "stdout",
     "output_type": "stream",
     "text": [
      "Epoch 64/200\n",
      "363/363 [==============================] - 1s 2ms/step - loss: 0.3359 - val_loss: 0.3367\n",
      "INFO:tensorflow:Assets written to: early_stop_model.h5py\\assets\n",
      "Epoch 65/200\n",
      "363/363 [==============================] - 1s 2ms/step - loss: 0.3484 - val_loss: 0.3393\n",
      "Epoch 66/200\n",
      "363/363 [==============================] - 1s 3ms/step - loss: 0.3438 - val_loss: 0.3389\n",
      "Epoch 67/200\n",
      "363/363 [==============================] - 1s 2ms/step - loss: 0.3622 - val_loss: 0.3444\n",
      "Epoch 68/200\n",
      "363/363 [==============================] - 1s 2ms/step - loss: 0.3429 - val_loss: 0.3391\n",
      "Epoch 69/200\n",
      "363/363 [==============================] - 1s 2ms/step - loss: 0.3485 - val_loss: 0.3382\n",
      "Epoch 70/200\n",
      "363/363 [==============================] - 1s 2ms/step - loss: 0.3425 - val_loss: 0.3492\n",
      "Epoch 71/200\n",
      "363/363 [==============================] - 1s 2ms/step - loss: 0.3486 - val_loss: 0.3408\n",
      "Epoch 72/200\n",
      "363/363 [==============================] - 1s 2ms/step - loss: 0.3321 - val_loss: 0.3356\n",
      "INFO:tensorflow:Assets written to: early_stop_model.h5py\\assets\n",
      "Epoch 73/200\n",
      "363/363 [==============================] - 1s 2ms/step - loss: 0.3522 - val_loss: 0.3316\n",
      "INFO:tensorflow:Assets written to: early_stop_model.h5py\\assets\n",
      "Epoch 74/200\n",
      "363/363 [==============================] - 1s 2ms/step - loss: 0.3455 - val_loss: 0.3404\n",
      "Epoch 75/200\n",
      "363/363 [==============================] - 1s 3ms/step - loss: 0.3330 - val_loss: 0.3418\n",
      "Epoch 76/200\n",
      "363/363 [==============================] - 1s 3ms/step - loss: 0.3458 - val_loss: 0.3306\n",
      "INFO:tensorflow:Assets written to: early_stop_model.h5py\\assets\n",
      "Epoch 77/200\n",
      "363/363 [==============================] - 1s 2ms/step - loss: 0.3361 - val_loss: 0.3412\n",
      "Epoch 78/200\n",
      "363/363 [==============================] - 1s 2ms/step - loss: 0.3440 - val_loss: 0.3355\n",
      "Epoch 79/200\n",
      "363/363 [==============================] - 1s 2ms/step - loss: 0.3435 - val_loss: 0.3304\n",
      "INFO:tensorflow:Assets written to: early_stop_model.h5py\\assets\n",
      "Epoch 80/200\n",
      "363/363 [==============================] - 1s 2ms/step - loss: 0.3443 - val_loss: 0.3301\n",
      "INFO:tensorflow:Assets written to: early_stop_model.h5py\\assets\n",
      "Epoch 81/200\n",
      "363/363 [==============================] - 1s 2ms/step - loss: 0.3416 - val_loss: 0.3281\n",
      "INFO:tensorflow:Assets written to: early_stop_model.h5py\\assets\n",
      "Epoch 82/200\n",
      "363/363 [==============================] - 1s 3ms/step - loss: 0.3579 - val_loss: 0.3325\n",
      "Epoch 83/200\n",
      "363/363 [==============================] - 1s 2ms/step - loss: 0.3510 - val_loss: 0.3267\n",
      "INFO:tensorflow:Assets written to: early_stop_model.h5py\\assets\n",
      "Epoch 84/200\n",
      "363/363 [==============================] - 1s 3ms/step - loss: 0.3289 - val_loss: 0.3382\n",
      "Epoch 85/200\n",
      "363/363 [==============================] - 1s 3ms/step - loss: 0.3366 - val_loss: 0.3267\n",
      "INFO:tensorflow:Assets written to: early_stop_model.h5py\\assets\n",
      "Epoch 86/200\n",
      "363/363 [==============================] - 1s 3ms/step - loss: 0.3316 - val_loss: 0.3358\n",
      "Epoch 87/200\n",
      "363/363 [==============================] - 1s 3ms/step - loss: 0.3516 - val_loss: 0.3288\n",
      "Epoch 88/200\n",
      "363/363 [==============================] - 1s 2ms/step - loss: 0.3392 - val_loss: 0.3276\n",
      "Epoch 89/200\n",
      "363/363 [==============================] - 1s 2ms/step - loss: 0.3352 - val_loss: 0.3354\n",
      "Epoch 90/200\n",
      "363/363 [==============================] - 1s 2ms/step - loss: 0.3272 - val_loss: 0.3285\n",
      "Epoch 91/200\n",
      "363/363 [==============================] - 1s 3ms/step - loss: 0.3335 - val_loss: 0.3254\n",
      "INFO:tensorflow:Assets written to: early_stop_model.h5py\\assets\n",
      "Epoch 92/200\n",
      "363/363 [==============================] - 1s 2ms/step - loss: 0.3386 - val_loss: 0.3264\n",
      "Epoch 93/200\n",
      "363/363 [==============================] - 1s 3ms/step - loss: 0.3518 - val_loss: 0.3239\n",
      "INFO:tensorflow:Assets written to: early_stop_model.h5py\\assets\n",
      "Epoch 94/200\n",
      "363/363 [==============================] - 1s 3ms/step - loss: 0.3329 - val_loss: 0.3238\n",
      "INFO:tensorflow:Assets written to: early_stop_model.h5py\\assets\n",
      "Epoch 95/200\n",
      "363/363 [==============================] - 1s 3ms/step - loss: 0.3325 - val_loss: 0.3346\n",
      "Epoch 96/200\n",
      "363/363 [==============================] - 1s 3ms/step - loss: 0.3423 - val_loss: 0.3219\n",
      "INFO:tensorflow:Assets written to: early_stop_model.h5py\\assets\n",
      "Epoch 97/200\n",
      "363/363 [==============================] - 1s 2ms/step - loss: 0.3311 - val_loss: 0.3244\n",
      "Epoch 98/200\n",
      "363/363 [==============================] - 1s 2ms/step - loss: 0.3311 - val_loss: 0.3218\n",
      "INFO:tensorflow:Assets written to: early_stop_model.h5py\\assets\n",
      "Epoch 99/200\n",
      "363/363 [==============================] - 1s 2ms/step - loss: 0.3249 - val_loss: 0.3246\n",
      "Epoch 100/200\n",
      "363/363 [==============================] - 1s 2ms/step - loss: 0.3438 - val_loss: 0.3246\n",
      "Epoch 101/200\n",
      "363/363 [==============================] - 1s 2ms/step - loss: 0.3377 - val_loss: 0.3224\n",
      "Epoch 102/200\n",
      "363/363 [==============================] - 1s 2ms/step - loss: 0.3460 - val_loss: 0.3204\n",
      "INFO:tensorflow:Assets written to: early_stop_model.h5py\\assets\n",
      "Epoch 103/200\n",
      "363/363 [==============================] - 1s 2ms/step - loss: 0.3373 - val_loss: 0.3200\n",
      "INFO:tensorflow:Assets written to: early_stop_model.h5py\\assets\n",
      "Epoch 104/200\n",
      "363/363 [==============================] - 1s 2ms/step - loss: 0.3346 - val_loss: 0.3241\n",
      "Epoch 105/200\n",
      "363/363 [==============================] - 1s 2ms/step - loss: 0.3254 - val_loss: 0.3209\n",
      "Epoch 106/200\n",
      "363/363 [==============================] - 1s 2ms/step - loss: 0.3458 - val_loss: 0.3212\n",
      "Epoch 107/200\n",
      "363/363 [==============================] - 1s 3ms/step - loss: 0.3169 - val_loss: 0.3186\n",
      "INFO:tensorflow:Assets written to: early_stop_model.h5py\\assets\n",
      "Epoch 108/200\n",
      "363/363 [==============================] - 1s 3ms/step - loss: 0.3382 - val_loss: 0.3245\n",
      "Epoch 109/200\n",
      "363/363 [==============================] - 1s 2ms/step - loss: 0.3228 - val_loss: 0.3227\n",
      "Epoch 110/200\n",
      "363/363 [==============================] - 1s 3ms/step - loss: 0.3430 - val_loss: 0.3192\n",
      "Epoch 111/200\n",
      "363/363 [==============================] - 1s 3ms/step - loss: 0.3310 - val_loss: 0.3315\n",
      "Epoch 112/200\n",
      "363/363 [==============================] - 1s 3ms/step - loss: 0.3347 - val_loss: 0.3182\n",
      "INFO:tensorflow:Assets written to: early_stop_model.h5py\\assets\n",
      "Epoch 113/200\n",
      "363/363 [==============================] - 1s 2ms/step - loss: 0.3171 - val_loss: 0.3193\n",
      "Epoch 114/200\n",
      "363/363 [==============================] - 1s 3ms/step - loss: 0.3382 - val_loss: 0.3255\n",
      "Epoch 115/200\n",
      "363/363 [==============================] - 1s 2ms/step - loss: 0.3276 - val_loss: 0.3328\n",
      "Epoch 116/200\n",
      "363/363 [==============================] - 1s 3ms/step - loss: 0.3278 - val_loss: 0.3384\n",
      "Epoch 117/200\n",
      "363/363 [==============================] - 1s 3ms/step - loss: 0.3350 - val_loss: 0.3319\n",
      "Epoch 118/200\n",
      "363/363 [==============================] - 1s 2ms/step - loss: 0.3164 - val_loss: 0.3400\n",
      "Epoch 119/200\n",
      "363/363 [==============================] - 1s 3ms/step - loss: 0.3322 - val_loss: 0.3334\n",
      "Epoch 120/200\n",
      "363/363 [==============================] - 1s 2ms/step - loss: 0.3266 - val_loss: 0.3177\n",
      "INFO:tensorflow:Assets written to: early_stop_model.h5py\\assets\n",
      "Epoch 121/200\n",
      "363/363 [==============================] - 1s 3ms/step - loss: 0.3444 - val_loss: 0.3151\n",
      "INFO:tensorflow:Assets written to: early_stop_model.h5py\\assets\n",
      "Epoch 122/200\n",
      "363/363 [==============================] - 1s 2ms/step - loss: 0.3350 - val_loss: 0.3378\n",
      "Epoch 123/200\n",
      "363/363 [==============================] - 1s 2ms/step - loss: 0.3339 - val_loss: 0.3136\n",
      "INFO:tensorflow:Assets written to: early_stop_model.h5py\\assets\n",
      "Epoch 124/200\n",
      "363/363 [==============================] - 1s 3ms/step - loss: 0.3174 - val_loss: 0.3135\n",
      "INFO:tensorflow:Assets written to: early_stop_model.h5py\\assets\n",
      "Epoch 125/200\n",
      "363/363 [==============================] - 1s 3ms/step - loss: 0.3322 - val_loss: 0.3319\n",
      "Epoch 126/200\n",
      "363/363 [==============================] - 1s 2ms/step - loss: 0.3315 - val_loss: 0.3216\n",
      "Epoch 127/200\n",
      "363/363 [==============================] - 1s 2ms/step - loss: 0.3208 - val_loss: 0.3139\n",
      "Epoch 128/200\n",
      "363/363 [==============================] - 1s 3ms/step - loss: 0.3196 - val_loss: 0.3240\n",
      "Epoch 129/200\n",
      "363/363 [==============================] - 1s 3ms/step - loss: 0.3353 - val_loss: 0.3125\n",
      "INFO:tensorflow:Assets written to: early_stop_model.h5py\\assets\n"
     ]
    },
    {
     "name": "stdout",
     "output_type": "stream",
     "text": [
      "Epoch 130/200\n",
      "363/363 [==============================] - 1s 2ms/step - loss: 0.3295 - val_loss: 0.3117\n",
      "INFO:tensorflow:Assets written to: early_stop_model.h5py\\assets\n",
      "Epoch 131/200\n",
      "363/363 [==============================] - 1s 3ms/step - loss: 0.3346 - val_loss: 0.3260\n",
      "Epoch 132/200\n",
      "363/363 [==============================] - 1s 2ms/step - loss: 0.3276 - val_loss: 0.3183\n",
      "Epoch 133/200\n",
      "363/363 [==============================] - 1s 2ms/step - loss: 0.3174 - val_loss: 0.3206\n",
      "Epoch 134/200\n",
      "363/363 [==============================] - 1s 2ms/step - loss: 0.3283 - val_loss: 0.3116\n",
      "INFO:tensorflow:Assets written to: early_stop_model.h5py\\assets\n",
      "Epoch 135/200\n",
      "363/363 [==============================] - 1s 2ms/step - loss: 0.3249 - val_loss: 0.3666\n",
      "Epoch 136/200\n",
      "363/363 [==============================] - 1s 2ms/step - loss: 0.3221 - val_loss: 0.3420\n",
      "Epoch 137/200\n",
      "363/363 [==============================] - 1s 2ms/step - loss: 0.3176 - val_loss: 0.3616\n",
      "Epoch 138/200\n",
      "363/363 [==============================] - 1s 2ms/step - loss: 0.3182 - val_loss: 0.3255\n",
      "Epoch 139/200\n",
      "363/363 [==============================] - 1s 2ms/step - loss: 0.3164 - val_loss: 0.3399\n",
      "Epoch 140/200\n",
      "363/363 [==============================] - 1s 2ms/step - loss: 0.3139 - val_loss: 0.3429\n",
      "Epoch 141/200\n",
      "363/363 [==============================] - 1s 2ms/step - loss: 0.3315 - val_loss: 0.3887\n",
      "Epoch 142/200\n",
      "363/363 [==============================] - 1s 2ms/step - loss: 0.3118 - val_loss: 0.3237\n",
      "Epoch 143/200\n",
      "363/363 [==============================] - 1s 2ms/step - loss: 0.3146 - val_loss: 0.3201\n",
      "Epoch 144/200\n",
      "363/363 [==============================] - 1s 2ms/step - loss: 0.3291 - val_loss: 0.3112\n",
      "INFO:tensorflow:Assets written to: early_stop_model.h5py\\assets\n",
      "Epoch 145/200\n",
      "363/363 [==============================] - 1s 2ms/step - loss: 0.3345 - val_loss: 0.3473\n",
      "Epoch 146/200\n",
      "363/363 [==============================] - 1s 2ms/step - loss: 0.3220 - val_loss: 0.3076\n",
      "INFO:tensorflow:Assets written to: early_stop_model.h5py\\assets\n",
      "Epoch 147/200\n",
      "363/363 [==============================] - 1s 2ms/step - loss: 0.3226 - val_loss: 0.3138\n",
      "Epoch 148/200\n",
      "363/363 [==============================] - 1s 3ms/step - loss: 0.3186 - val_loss: 0.3127\n",
      "Epoch 149/200\n",
      "363/363 [==============================] - 1s 2ms/step - loss: 0.3183 - val_loss: 0.3097\n",
      "Epoch 150/200\n",
      "363/363 [==============================] - 1s 2ms/step - loss: 0.3188 - val_loss: 0.3162\n",
      "Epoch 151/200\n",
      "363/363 [==============================] - 1s 2ms/step - loss: 0.3275 - val_loss: 0.3130\n",
      "Epoch 152/200\n",
      "363/363 [==============================] - 1s 3ms/step - loss: 0.3298 - val_loss: 0.3741\n",
      "Epoch 153/200\n",
      "363/363 [==============================] - 1s 2ms/step - loss: 0.3092 - val_loss: 0.3065\n",
      "INFO:tensorflow:Assets written to: early_stop_model.h5py\\assets\n",
      "Epoch 154/200\n",
      "363/363 [==============================] - 1s 2ms/step - loss: 0.3231 - val_loss: 0.3060\n",
      "INFO:tensorflow:Assets written to: early_stop_model.h5py\\assets\n",
      "Epoch 155/200\n",
      "363/363 [==============================] - 1s 3ms/step - loss: 0.3185 - val_loss: 0.3184\n",
      "Epoch 156/200\n",
      "363/363 [==============================] - 1s 2ms/step - loss: 0.3285 - val_loss: 0.3094\n",
      "Epoch 157/200\n",
      "363/363 [==============================] - 1s 2ms/step - loss: 0.3230 - val_loss: 0.3729\n",
      "Epoch 158/200\n",
      "363/363 [==============================] - 1s 2ms/step - loss: 0.3338 - val_loss: 0.3114\n",
      "Epoch 159/200\n",
      "363/363 [==============================] - 1s 2ms/step - loss: 0.3128 - val_loss: 0.3313\n",
      "Epoch 160/200\n",
      "363/363 [==============================] - 1s 2ms/step - loss: 0.3155 - val_loss: 0.3065\n",
      "Epoch 161/200\n",
      "363/363 [==============================] - 1s 3ms/step - loss: 0.3158 - val_loss: 0.3872\n",
      "Epoch 162/200\n",
      "363/363 [==============================] - 1s 2ms/step - loss: 0.3253 - val_loss: 0.3060\n",
      "INFO:tensorflow:Assets written to: early_stop_model.h5py\\assets\n",
      "Epoch 163/200\n",
      "363/363 [==============================] - 1s 3ms/step - loss: 0.3251 - val_loss: 0.4628\n",
      "Epoch 164/200\n",
      "363/363 [==============================] - 1s 2ms/step - loss: 0.3161 - val_loss: 0.4061\n",
      "Epoch 165/200\n",
      "363/363 [==============================] - 1s 2ms/step - loss: 0.3178 - val_loss: 0.5720\n",
      "Epoch 166/200\n",
      "363/363 [==============================] - 1s 3ms/step - loss: 0.3256 - val_loss: 0.4397\n",
      "Epoch 167/200\n",
      "363/363 [==============================] - 1s 2ms/step - loss: 0.3228 - val_loss: 0.5366\n",
      "Epoch 168/200\n",
      "363/363 [==============================] - 1s 3ms/step - loss: 0.3318 - val_loss: 0.3329\n",
      "Epoch 169/200\n",
      "363/363 [==============================] - 1s 2ms/step - loss: 0.3229 - val_loss: 0.4108\n",
      "Epoch 170/200\n",
      "363/363 [==============================] - 1s 3ms/step - loss: 0.3194 - val_loss: 0.3091\n",
      "Epoch 171/200\n",
      "363/363 [==============================] - 1s 2ms/step - loss: 0.3168 - val_loss: 0.3059\n",
      "INFO:tensorflow:Assets written to: early_stop_model.h5py\\assets\n",
      "Epoch 172/200\n",
      "363/363 [==============================] - 1s 2ms/step - loss: 0.3302 - val_loss: 0.3085\n",
      "Epoch 173/200\n",
      "363/363 [==============================] - 1s 2ms/step - loss: 0.3155 - val_loss: 0.3028\n",
      "INFO:tensorflow:Assets written to: early_stop_model.h5py\\assets\n",
      "Epoch 174/200\n",
      "363/363 [==============================] - 1s 3ms/step - loss: 0.3180 - val_loss: 0.3036\n",
      "Epoch 175/200\n",
      "363/363 [==============================] - 1s 3ms/step - loss: 0.3175 - val_loss: 0.3770\n",
      "Epoch 176/200\n",
      "363/363 [==============================] - 1s 2ms/step - loss: 0.3095 - val_loss: 0.3023\n",
      "INFO:tensorflow:Assets written to: early_stop_model.h5py\\assets\n",
      "Epoch 177/200\n",
      "363/363 [==============================] - 1s 3ms/step - loss: 0.3174 - val_loss: 0.3015\n",
      "INFO:tensorflow:Assets written to: early_stop_model.h5py\\assets\n",
      "Epoch 178/200\n",
      "363/363 [==============================] - 1s 2ms/step - loss: 0.3170 - val_loss: 0.3538\n",
      "Epoch 179/200\n",
      "363/363 [==============================] - 1s 3ms/step - loss: 0.3118 - val_loss: 0.3034\n",
      "Epoch 180/200\n",
      "363/363 [==============================] - 1s 2ms/step - loss: 0.3092 - val_loss: 0.3172\n",
      "Epoch 181/200\n",
      "363/363 [==============================] - 1s 2ms/step - loss: 0.3151 - val_loss: 0.3248\n",
      "Epoch 182/200\n",
      "363/363 [==============================] - 1s 3ms/step - loss: 0.2992 - val_loss: 0.3192\n",
      "Epoch 183/200\n",
      "363/363 [==============================] - 1s 2ms/step - loss: 0.3008 - val_loss: 0.3020\n",
      "Epoch 184/200\n",
      "363/363 [==============================] - 1s 3ms/step - loss: 0.3100 - val_loss: 0.3580\n",
      "Epoch 185/200\n",
      "363/363 [==============================] - 1s 2ms/step - loss: 0.3095 - val_loss: 0.3021\n",
      "Epoch 186/200\n",
      "363/363 [==============================] - 1s 2ms/step - loss: 0.3090 - val_loss: 0.4444\n",
      "Epoch 187/200\n",
      "363/363 [==============================] - 1s 3ms/step - loss: 0.3052 - val_loss: 0.3192\n"
     ]
    }
   ],
   "source": [
    "model_history = model.fit(X_train, y_train, epochs = 200, validation_data=(X_valid, y_valid), callbacks=[checkpoint_cb, early_stopping_cb])"
   ]
  },
  {
   "cell_type": "code",
   "execution_count": 57,
   "id": "4ee1f2f7",
   "metadata": {},
   "outputs": [
    {
     "name": "stdout",
     "output_type": "stream",
     "text": [
      "162/162 [==============================] - 0s 2ms/step - loss: 0.3178\n"
     ]
    }
   ],
   "source": [
    "model = keras.models.load_model(\"early_stop_model.h5py\")\n",
    "mse_test = model.evaluate(X_test, y_test)"
   ]
  },
  {
   "cell_type": "code",
   "execution_count": null,
   "id": "9fac7f92",
   "metadata": {},
   "outputs": [],
   "source": []
  }
 ],
 "metadata": {
  "kernelspec": {
   "display_name": "Python 3 (ipykernel)",
   "language": "python",
   "name": "python3"
  },
  "language_info": {
   "codemirror_mode": {
    "name": "ipython",
    "version": 3
   },
   "file_extension": ".py",
   "mimetype": "text/x-python",
   "name": "python",
   "nbconvert_exporter": "python",
   "pygments_lexer": "ipython3",
   "version": "3.9.7"
  }
 },
 "nbformat": 4,
 "nbformat_minor": 5
}
